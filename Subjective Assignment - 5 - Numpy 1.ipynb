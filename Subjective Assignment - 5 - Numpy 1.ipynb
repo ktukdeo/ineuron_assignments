{
 "cells": [
  {
   "cell_type": "markdown",
   "metadata": {},
   "source": [
    "# Assignment"
   ]
  },
  {
   "cell_type": "markdown",
   "metadata": {},
   "source": [
    "Q1. Write the NumPy program to create a 2d array with 6 on the border\n",
    "and 0 inside?\n",
    "\n",
    "    Expected OutputOriginal array-\n",
    "    [ [6 6 6 6 6]\n",
    "     [ 6 6 6 6 6]\n",
    "     [ 6 6 6 6 6 ]\n",
    "    [ 6 6 6 6 6 ]\n",
    "    [ 6 6 6 6 ] ].\n",
    "    6 on the border and 0 inside in the array-\n",
    "    [[ 6 6 6 6 6]\n",
    "    [ 6 0 0 0 6]\n",
    "    [ 6 0 0 0 6]\n",
    "    [ 6 0 0 0 6]\n",
    "    [ 6 6 6 6 6]]."
   ]
  },
  {
   "cell_type": "code",
   "execution_count": 1,
   "metadata": {},
   "outputs": [
    {
     "data": {
      "text/plain": [
       "array([[6, 6, 6, 6, 6, 6],\n",
       "       [6, 0, 0, 0, 0, 6],\n",
       "       [6, 0, 0, 0, 0, 6],\n",
       "       [6, 0, 0, 0, 0, 6],\n",
       "       [6, 0, 0, 0, 0, 6],\n",
       "       [6, 6, 6, 6, 6, 6]])"
      ]
     },
     "execution_count": 1,
     "metadata": {},
     "output_type": "execute_result"
    }
   ],
   "source": [
    "import numpy as np\n",
    "\n",
    "A = np.tile(6,(6,6))\n",
    "A[1:-1,1:-1] = 0\n",
    "A"
   ]
  },
  {
   "cell_type": "markdown",
   "metadata": {},
   "source": [
    "Q2. Write the NumPy program to create a 8x8 matrix and fill it with the\n",
    "checkerboard pattern?\n",
    "    \n",
    "    Checkerboard pattern-\n",
    "    [[3 9 3 9 3 9 3 9]\n",
    "    [9 3 9 3 9 3 9 3]\n",
    "    [3 9 3 9 3 9 3 9]\n",
    "    [9 3 9 3 9 3 9 3]\n",
    "    [3 9 3 9 3 9 3 9]\n",
    "    [9 3 9 3 9 3 9 3]\n",
    "    [3 9 3 9 3 9 3 9]\n",
    "    [9 3 9 3 9 3 9 3]]."
   ]
  },
  {
   "cell_type": "code",
   "execution_count": 2,
   "metadata": {},
   "outputs": [
    {
     "data": {
      "text/plain": [
       "array([[3, 9, 3, 9, 3, 9, 3, 9],\n",
       "       [9, 3, 9, 3, 9, 3, 9, 3],\n",
       "       [3, 9, 3, 9, 3, 9, 3, 9],\n",
       "       [9, 3, 9, 3, 9, 3, 9, 3],\n",
       "       [3, 9, 3, 9, 3, 9, 3, 9],\n",
       "       [9, 3, 9, 3, 9, 3, 9, 3],\n",
       "       [3, 9, 3, 9, 3, 9, 3, 9],\n",
       "       [9, 3, 9, 3, 9, 3, 9, 3]])"
      ]
     },
     "execution_count": 2,
     "metadata": {},
     "output_type": "execute_result"
    }
   ],
   "source": [
    "import numpy as np\n",
    "\n",
    "A = np.tile([[3,9],[9,3]],[4,4])\n",
    "A"
   ]
  },
  {
   "cell_type": "markdown",
   "metadata": {},
   "source": [
    "Q3. Write the NumPy program to create an empty and a full array.\n",
    " \n",
    "     Expected Output-\n",
    "    [[4.45057637e-308 1.78021527e-306 8.45549797e-307 1.37962049e-306]\n",
    "    [1.11260619e-306 1.78010255e-306 9.79054228e-307 4.45057637e-308]\n",
    "    [8.45596650e-307 9.34602321e-307 4.94065646e-322 0.00000000e+000]]\n",
    "    [[6 6 6]\n",
    "    [6 6 6]\n",
    "    [6 6 6]]\n"
   ]
  },
  {
   "cell_type": "code",
   "execution_count": 3,
   "metadata": {},
   "outputs": [
    {
     "name": "stdout",
     "output_type": "stream",
     "text": [
      "[[1.14796597e-311 3.16202013e-322 0.00000000e+000]\n",
      " [0.00000000e+000 1.33511969e-306 1.51980508e-051]\n",
      " [8.61434144e-067 6.75947235e-067 2.60954906e-057]\n",
      " [1.03012321e-071 1.77267057e-051 9.59401864e-043]]\n",
      "[[6 6 6]\n",
      " [6 6 6]\n",
      " [6 6 6]]\n"
     ]
    }
   ],
   "source": [
    "A = np.empty([4,3])\n",
    "B = np.tile(6,(3,3))\n",
    "print(A)\n",
    "print(B)"
   ]
  },
  {
   "cell_type": "markdown",
   "metadata": {},
   "source": [
    "Q4. Write the NumPy program to convert the values of Centigrade\n",
    "degrees into the Fahrenheit degrees and the centigrade values are\n",
    "stored in the NumPy array.\n",
    "    \n",
    "    Sample Array -[0, 12, 45.21 ,34, 99.91]\n",
    "    Expected OutputValues in Fahrenheit degrees-\n",
    "    [ 0. 12. 45.21 34. 99.91]\n",
    "    Values in Centigrade degrees-\n",
    "    [-17.77777778 -11.11111111 7.33888889 1.11111111 37.72777778]"
   ]
  },
  {
   "cell_type": "code",
   "execution_count": 4,
   "metadata": {},
   "outputs": [
    {
     "name": "stdout",
     "output_type": "stream",
     "text": [
      "Farenheit:  [ 0.   12.   45.21 34.   99.91]\n",
      "Centigrade:  [-17.77777778 -11.11111111   7.33888889   1.11111111  37.72777778]\n"
     ]
    }
   ],
   "source": [
    "F = np.array([0,12,45.21,34,99.91])\n",
    "C = (F - 32)*5/9\n",
    "print('Farenheit: ',F)\n",
    "\n",
    "print('Centigrade: ',C)"
   ]
  },
  {
   "cell_type": "markdown",
   "metadata": {},
   "source": [
    "Q5. Write the NumPy program to find the real and imaginary parts of an\n",
    "array of complex numbers?\n",
    "\n",
    "    Expected OutputOriginal array [ 1.00000000+0.j 0.70710678+0.70710678j]\n",
    "    Real part of the array-\n",
    "    [ 1. 0.70710678]\n",
    "    Imaginary part of the array-\n",
    "    [ 0. 0.70710678]"
   ]
  },
  {
   "cell_type": "code",
   "execution_count": 5,
   "metadata": {},
   "outputs": [
    {
     "name": "stdout",
     "output_type": "stream",
     "text": [
      "Original:  [1.        +0.j         0.70710678+0.70710678j] \n",
      "---------\n",
      "Real:  [1.         0.70710678]    Imaginary:  [0.         0.70710678]\n"
     ]
    }
   ],
   "source": [
    "A = np.array([ 1.00000000+0.j, 0.70710678+0.70710678j])\n",
    "print('Original: ',A,'\\n---------')\n",
    "print('Real: ',A.real,'   Imaginary: ',A.imag)"
   ]
  },
  {
   "cell_type": "markdown",
   "metadata": {},
   "source": [
    "Q6. Write the NumPy program to test whether each element of a 1-D\n",
    "array is also present in the second array?\n",
    "\n",
    "    Expected OutputArray1: [ 0 10 20 40 60]\n",
    "    Array2: [0, 40]\n",
    "    Compare each element of array1 and array2\n",
    "    [ True False False True False]\n"
   ]
  },
  {
   "cell_type": "code",
   "execution_count": 6,
   "metadata": {},
   "outputs": [
    {
     "name": "stdout",
     "output_type": "stream",
     "text": [
      "[ True False False  True False]\n"
     ]
    }
   ],
   "source": [
    "A = np.array([0,10,20,40,60])\n",
    "B = np.array([0,40])\n",
    "print(np.in1d(A,B))"
   ]
  },
  {
   "cell_type": "markdown",
   "metadata": {},
   "source": [
    "Q7. Write the NumPy program to find common values between two\n",
    "arrays?\n",
    "    \n",
    "    Expected OutputArray1: [ 0 10 20 40 60]\n",
    "    Array2: [10, 30, 40]\n",
    "    Common values between two arrays-\n",
    "    [10 40]"
   ]
  },
  {
   "cell_type": "code",
   "execution_count": 7,
   "metadata": {},
   "outputs": [
    {
     "data": {
      "text/plain": [
       "array([10, 40])"
      ]
     },
     "execution_count": 7,
     "metadata": {},
     "output_type": "execute_result"
    }
   ],
   "source": [
    "A = np.array([0,10,20,40,60])\n",
    "B = np.array([10,30,40])\n",
    "B[np.in1d(B,A)]"
   ]
  },
  {
   "cell_type": "markdown",
   "metadata": {},
   "source": [
    "Q8. Write the NumPy program to get the unique elements of an array?\n",
    "\n",
    "    Expected OutputOriginal array-\n",
    "    [10 10 20 20 30 30]\n",
    "    Unique elements of the above array-\n",
    "    [10 20 30]\n",
    "    P a g e 14 | 44\n",
    "    Original array-\n",
    "    [[1 1]\n",
    "    [2 3]]\n",
    "    Unique elements of the above array-\n",
    "    [1 2 3]"
   ]
  },
  {
   "cell_type": "code",
   "execution_count": 8,
   "metadata": {},
   "outputs": [
    {
     "name": "stdout",
     "output_type": "stream",
     "text": [
      "Orig array:  [10 10 20 20 30 30]\n",
      "[10 20 30]\n",
      "--------\n",
      "\n",
      "Orig array:  [[1, 1], [2, 3]]\n",
      "[1 2 3]\n"
     ]
    }
   ],
   "source": [
    "A = np.array([10, 10, 20, 20, 30, 30])\n",
    "print('Orig array: ',A)\n",
    "print(np.unique(A))\n",
    "print('--------\\n')\n",
    "\n",
    "A = [[1,1],[2,3]]\n",
    "print('Orig array: ',A)\n",
    "print(np.unique(A))"
   ]
  },
  {
   "cell_type": "markdown",
   "metadata": {},
   "source": [
    "Q9. Write the NumPy program to find the set exclusive-or of two arrays.\n",
    "Set exclusive-or will return the sorted, unique values that are in\n",
    "only one (not both) of the input arrays?\n",
    "\n",
    "    Array1- [ 0 10 20 40 60 80]\n",
    "    Array2- [10, 30, 40, 50, 70]\n",
    "    Unique values that are in only one (not both) of the input arrays-\n",
    "    [ 0 20 30 50 60 70 80]"
   ]
  },
  {
   "cell_type": "code",
   "execution_count": 9,
   "metadata": {},
   "outputs": [
    {
     "name": "stdout",
     "output_type": "stream",
     "text": [
      "Unique Values are:  [ 0 20 30 50 60 70 80]\n",
      "False\n"
     ]
    }
   ],
   "source": [
    "A = np.array([0,10,20,40,60,80])\n",
    "B = np.array([10,30,40,50,70])\n",
    "print('Unique Values are: ', np.setxor1d(A,B))\n",
    "print(np.all(A != 0))"
   ]
  },
  {
   "cell_type": "markdown",
   "metadata": {},
   "source": [
    "Q10. Write the NumPy program to test if all elements in an array\n",
    "evaluate to True ?\n",
    " \n",
    "Note: 0 evaluates to False in NumPy"
   ]
  },
  {
   "cell_type": "code",
   "execution_count": 10,
   "metadata": {},
   "outputs": [
    {
     "name": "stdout",
     "output_type": "stream",
     "text": [
      "[10, 20, -10, -20]  ---> True \n",
      "\n",
      "[0, 10, 20]  ---> False \n",
      "\n"
     ]
    }
   ],
   "source": [
    "A = [10,20,-10,-20]  \n",
    "print(A,' --->',np.all(A),'\\n')\n",
    "\n",
    "A = [0,10,20]\n",
    "print(A,' --->',np.all(A),'\\n')"
   ]
  },
  {
   "cell_type": "markdown",
   "metadata": {},
   "source": [
    "Q11. Write the NumPy program to test whether any array element along\n",
    "the given axis evaluates to True?\n",
    " \n",
    "Note: 0 evaluates to False in NumPy"
   ]
  },
  {
   "cell_type": "code",
   "execution_count": 11,
   "metadata": {},
   "outputs": [
    {
     "name": "stdout",
     "output_type": "stream",
     "text": [
      "[10, 20, -10, -20]  ---> True \n",
      "\n",
      "[ 0 10 20]  ---> True \n",
      "\n",
      "[0 0]  ---> False \n",
      "\n"
     ]
    }
   ],
   "source": [
    "A = [10,20,-10,-20]  \n",
    "print(A,' --->',np.any(A),'\\n')\n",
    "\n",
    "A = np.array([0,10,20])\n",
    "print(A,' --->',np.any(A),'\\n')\n",
    "\n",
    "A = np.array([0,0])\n",
    "print(A,' --->',np.any(A),'\\n')"
   ]
  },
  {
   "cell_type": "markdown",
   "metadata": {},
   "source": [
    "Q12. Write the NumPy program to construct an array by repeating?\n",
    "\n",
    "    Sample array- [1, 2, 3, 4]\n",
    "    Expected OutputOriginal array\n",
    "    [1, 2, 3, 4]\n",
    "    Repeating 2 times\n",
    "    [1 2 3 4 1 2 3 4]\n",
    "    Repeating 3 times\n",
    "    [1 2 3 4 1 2 3 4 1 2 3 4]"
   ]
  },
  {
   "cell_type": "code",
   "execution_count": 12,
   "metadata": {},
   "outputs": [
    {
     "name": "stdout",
     "output_type": "stream",
     "text": [
      "Orig Array:  [1, 2, 3, 4]\n",
      "Repeat 2 times:  [1 2 3 4 1 2 3 4]\n",
      "Repeat 3 times:  [1 2 3 4 1 2 3 4 1 2 3 4]\n"
     ]
    }
   ],
   "source": [
    "A = [1,2,3,4]\n",
    "print('Orig Array: ',A)\n",
    "print('Repeat 2 times: ',np.tile(A,2))\n",
    "print('Repeat 3 times: ',np.tile(A,3))"
   ]
  },
  {
   "cell_type": "markdown",
   "metadata": {},
   "source": [
    "Q13. Write the NumPy program to find the indices of the maximum and\n",
    "minimum values with the given axis of an array?\n",
    "\n",
    "    Original array- [1 2 3 4 5 6]\n",
    "    Maximum Values- 5\n",
    "    Minimum Values- 0"
   ]
  },
  {
   "cell_type": "code",
   "execution_count": 13,
   "metadata": {},
   "outputs": [
    {
     "name": "stdout",
     "output_type": "stream",
     "text": [
      "Orig Array:  [1 2 3 4 5 6] \n",
      "\n",
      "Max value index:  5\n",
      "Min value index:  0\n"
     ]
    }
   ],
   "source": [
    "A = np.array([1,2,3,4,5,6])\n",
    "print('Orig Array: ',A,'\\n')\n",
    "print('Max value index: ',np.argmax(A))\n",
    "print('Min value index: ',np.argmin(A))"
   ]
  },
  {
   "cell_type": "markdown",
   "metadata": {},
   "source": [
    "Q14. Write the NumPy program compare two arrays using numpy?\n",
    "\n",
    "    Array a- [1 2]\n",
    "    Array b- [4 5]\n",
    "    a > b\n",
    "    [False False]\n",
    "    a >= b\n",
    "    [False False]\n",
    "    a < b\n",
    "    [ True True]\n",
    "    a <= b\n",
    "    [ True True]\n"
   ]
  },
  {
   "cell_type": "code",
   "execution_count": 14,
   "metadata": {},
   "outputs": [
    {
     "name": "stdout",
     "output_type": "stream",
     "text": [
      "A & B [1 2]    [4 5]\n",
      "A > B [False False]\n",
      "A >= B [False False]\n",
      "A < B [ True  True]\n",
      "A <= B [ True  True]\n"
     ]
    }
   ],
   "source": [
    "A = np.array([1,2])\n",
    "B = np.array([4,5])\n",
    "\n",
    "print('A & B', A, '  ',B)\n",
    "print('A > B', A>B)\n",
    "print('A >= B', A>=B)\n",
    "print('A < B',A<B)\n",
    "print('A <= B', A<=B)"
   ]
  },
  {
   "cell_type": "markdown",
   "metadata": {},
   "source": [
    "Q15. Write the NumPy program to sort an along the first, last axis of an\n",
    "array?\n",
    "\n",
    "    Sample array- [[2,5],[4,4]]\n",
    "    Expected OutputOriginal array:\n",
    "    [[4 6]\n",
    "    [2 1]]\n",
    "    Sort along the first axis:\n",
    "    [[2 1]\n",
    "    [4 6]]\n",
    "    Sort along the last axis-\n",
    "    [[1 2]\n",
    "    [4 6]]"
   ]
  },
  {
   "cell_type": "code",
   "execution_count": 15,
   "metadata": {},
   "outputs": [
    {
     "name": "stdout",
     "output_type": "stream",
     "text": [
      "Original:        [[4, 6], [2, 1]] \n",
      "\n",
      "Sort 1st axis:  \n",
      " [[2 1]\n",
      " [4 6]]\n",
      "Then Sort last axis: \n",
      " [[1 2]\n",
      " [4 6]]\n"
     ]
    }
   ],
   "source": [
    "A = [[4,6],[2,1]]\n",
    "print('Original:       ',A,'\\n')\n",
    "A = np.sort(A,axis=0)\n",
    "print('Sort 1st axis:  \\n',A)\n",
    "print('Then Sort last axis: \\n',np.sort(A,axis=1))"
   ]
  },
  {
   "cell_type": "markdown",
   "metadata": {},
   "source": [
    "Q16. Write the NumPy program to sort pairs of first name and last name\n",
    "return their indices (first by last name, then by first name).\n",
    "\n",
    "    first_names - ( Betsey, Shelley, Lanell, Genesis, Margery )\n",
    "    last_names - ( Battle, Brien, Plotner, Stahl, Woolum )\n",
    "    Expected Output-\n",
    "    [1 3 2 4 0]"
   ]
  },
  {
   "cell_type": "code",
   "execution_count": 16,
   "metadata": {},
   "outputs": [
    {
     "name": "stdout",
     "output_type": "stream",
     "text": [
      "Output:  [0 1 2 3 4]\n"
     ]
    }
   ],
   "source": [
    "first_names = ( 'Betsey', 'Shelley', 'Lanell', 'Genesis', 'Margery' )\n",
    "last_names = ( 'Battle', 'Brien', 'Plotner', 'Stahl', 'Woolum' )\n",
    "print('Output: ',np.lexsort((first_names,last_names)))"
   ]
  },
  {
   "cell_type": "markdown",
   "metadata": {},
   "source": [
    "Q17. Write the NumPy program to get the values and indices of the\n",
    "elements that are bigger than 10 in the given array?\n",
    "\n",
    "    Original array-\n",
    "    [[ 0 10 20]\n",
    "    [20 30 40]]\n",
    "    Values bigger than 10 = [20 20 30 40]\n",
    "    Their indices are (array([0, 1, 1, 1]), array([2, 0, 1, 2]))"
   ]
  },
  {
   "cell_type": "code",
   "execution_count": 17,
   "metadata": {},
   "outputs": [
    {
     "name": "stdout",
     "output_type": "stream",
     "text": [
      "Original Array:\n",
      "  [[ 0 10 20]\n",
      " [20 30 40]]\n",
      "\n",
      "Val > 10 : [20 20 30 40]\n",
      "\n",
      "Val>10 - Indices : (array([0, 1, 1, 1], dtype=int64), array([2, 0, 1, 2], dtype=int64))\n"
     ]
    }
   ],
   "source": [
    "A = np.array([[0,10,20],[20,30,40]])\n",
    "print('Original Array:\\n ', A)\n",
    "print('\\nVal > 10 :',A[A > 10])\n",
    "print('\\nVal>10 - Indices :',np.nonzero(A > 10))"
   ]
  },
  {
   "cell_type": "markdown",
   "metadata": {},
   "source": [
    "Q18. Write the NumPy program to find the memory size of a NumPy\n",
    "array?\n",
    "\n",
    "    Expected Output128 bytes\n"
   ]
  },
  {
   "cell_type": "code",
   "execution_count": 18,
   "metadata": {},
   "outputs": [
    {
     "name": "stdout",
     "output_type": "stream",
     "text": [
      "\n",
      "Array :\n",
      " [ 5 10  3  2]\n",
      "Byte Size:  16\n",
      "\n",
      "Array :\n",
      " [[1. 0. 0. 0.]\n",
      " [0. 1. 0. 0.]\n",
      " [0. 0. 1. 0.]\n",
      " [0. 0. 0. 1.]]\n",
      "Byte Size:  128\n"
     ]
    }
   ],
   "source": [
    "def printsize(x):\n",
    "    if isinstance(x,np.ndarray):A = x\n",
    "    else: A = np.array(x)\n",
    "    \n",
    "    print('\\nArray :\\n',A)\n",
    "    print('Byte Size: ',A.size * A.itemsize)\n",
    "\n",
    "printsize([5,10,3,2])\n",
    "\n",
    "printsize(np.eye(4))"
   ]
  },
  {
   "cell_type": "markdown",
   "metadata": {},
   "source": [
    "## Great Job!"
   ]
  }
 ],
 "metadata": {
  "kernelspec": {
   "display_name": "Python 3",
   "language": "python",
   "name": "python3"
  },
  "language_info": {
   "codemirror_mode": {
    "name": "ipython",
    "version": 3
   },
   "file_extension": ".py",
   "mimetype": "text/x-python",
   "name": "python",
   "nbconvert_exporter": "python",
   "pygments_lexer": "ipython3",
   "version": "3.7.2"
  }
 },
 "nbformat": 4,
 "nbformat_minor": 2
}
