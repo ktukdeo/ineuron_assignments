{
 "cells": [
  {
   "cell_type": "markdown",
   "metadata": {},
   "source": [
    "# Assignment 5 Questions"
   ]
  },
  {
   "cell_type": "markdown",
   "metadata": {},
   "source": [
    "## Problem Statement"
   ]
  },
  {
   "cell_type": "markdown",
   "metadata": {},
   "source": [
    "#### Task 1:\n",
    "\n",
    "Read the dataset from the bellow link\n",
    "\n",
    "url = https://raw.githubusercontent.com/hadley/data-baby-names/master/baby-names.csv\n"
   ]
  },
  {
   "cell_type": "code",
   "execution_count": 2,
   "metadata": {},
   "outputs": [
    {
     "data": {
      "text/html": [
       "<div>\n",
       "<style scoped>\n",
       "    .dataframe tbody tr th:only-of-type {\n",
       "        vertical-align: middle;\n",
       "    }\n",
       "\n",
       "    .dataframe tbody tr th {\n",
       "        vertical-align: top;\n",
       "    }\n",
       "\n",
       "    .dataframe thead th {\n",
       "        text-align: right;\n",
       "    }\n",
       "</style>\n",
       "<table border=\"1\" class=\"dataframe\">\n",
       "  <thead>\n",
       "    <tr style=\"text-align: right;\">\n",
       "      <th></th>\n",
       "      <th>year</th>\n",
       "      <th>name</th>\n",
       "      <th>percent</th>\n",
       "      <th>sex</th>\n",
       "    </tr>\n",
       "  </thead>\n",
       "  <tbody>\n",
       "    <tr>\n",
       "      <th>0</th>\n",
       "      <td>1880</td>\n",
       "      <td>John</td>\n",
       "      <td>0.081541</td>\n",
       "      <td>boy</td>\n",
       "    </tr>\n",
       "    <tr>\n",
       "      <th>1</th>\n",
       "      <td>1880</td>\n",
       "      <td>William</td>\n",
       "      <td>0.080511</td>\n",
       "      <td>boy</td>\n",
       "    </tr>\n",
       "    <tr>\n",
       "      <th>2</th>\n",
       "      <td>1880</td>\n",
       "      <td>James</td>\n",
       "      <td>0.050057</td>\n",
       "      <td>boy</td>\n",
       "    </tr>\n",
       "    <tr>\n",
       "      <th>3</th>\n",
       "      <td>1880</td>\n",
       "      <td>Charles</td>\n",
       "      <td>0.045167</td>\n",
       "      <td>boy</td>\n",
       "    </tr>\n",
       "    <tr>\n",
       "      <th>4</th>\n",
       "      <td>1880</td>\n",
       "      <td>George</td>\n",
       "      <td>0.043292</td>\n",
       "      <td>boy</td>\n",
       "    </tr>\n",
       "  </tbody>\n",
       "</table>\n",
       "</div>"
      ],
      "text/plain": [
       "   year     name   percent  sex\n",
       "0  1880     John  0.081541  boy\n",
       "1  1880  William  0.080511  boy\n",
       "2  1880    James  0.050057  boy\n",
       "3  1880  Charles  0.045167  boy\n",
       "4  1880   George  0.043292  boy"
      ]
     },
     "execution_count": 2,
     "metadata": {},
     "output_type": "execute_result"
    }
   ],
   "source": [
    "import pandas as pd\n",
    "\n",
    "url = 'https://raw.githubusercontent.com/hadley/data-baby-names/master/baby-names.csv'\n",
    "\n",
    "data = pd.read_csv(url)\n",
    "\n",
    "data.head()"
   ]
  },
  {
   "cell_type": "markdown",
   "metadata": {},
   "source": [
    "Questions"
   ]
  },
  {
   "cell_type": "markdown",
   "metadata": {},
   "source": [
    "1. Delete unnamed columns"
   ]
  },
  {
   "cell_type": "code",
   "execution_count": 3,
   "metadata": {},
   "outputs": [
    {
     "data": {
      "text/plain": [
       "Index(['year', 'name', 'percent', 'sex'], dtype='object')"
      ]
     },
     "execution_count": 3,
     "metadata": {},
     "output_type": "execute_result"
    }
   ],
   "source": [
    "data.columns\n",
    "# No unnamed columns"
   ]
  },
  {
   "cell_type": "markdown",
   "metadata": {},
   "source": [
    "2. Show the distribution of male and female"
   ]
  },
  {
   "cell_type": "code",
   "execution_count": 59,
   "metadata": {},
   "outputs": [
    {
     "name": "stdout",
     "output_type": "stream",
     "text": [
      "Count distribution over all dataset\n",
      "boy     0.5\n",
      "girl    0.5\n",
      "Name: sex, dtype: float64\n",
      "-------\n",
      "Percent distribution over all dataset\n",
      "sex\n",
      "boy     0.511935\n",
      "girl    0.488065\n",
      "Name: percent, dtype: float64\n"
     ]
    }
   ],
   "source": [
    "#The question is not clear. Based on simple count\n",
    "print('Count distribution over all dataset')\n",
    "print(data.sex.value_counts()/len(data))\n",
    "\n",
    "print('-------\\nPercent distribution over all dataset')\n",
    "print(data.groupby('sex').percent.sum()/data.percent.sum())"
   ]
  },
  {
   "cell_type": "markdown",
   "metadata": {},
   "source": [
    "3. Show the top 5 most preferred names"
   ]
  },
  {
   "cell_type": "code",
   "execution_count": 20,
   "metadata": {},
   "outputs": [
    {
     "name": "stdout",
     "output_type": "stream",
     "text": [
      "         name   percent\n",
      "3379     John  5.320360\n",
      "3124    James  4.593850\n",
      "4594     Mary  4.534115\n",
      "6631  William  4.424557\n",
      "5516   Robert  3.836721\n"
     ]
    }
   ],
   "source": [
    "pname = data.groupby('name').percent.sum().reset_index().sort_values(by=['percent'],ascending=[False]).head()\n",
    "print(pname)\n"
   ]
  },
  {
   "cell_type": "markdown",
   "metadata": {},
   "source": [
    "4. What is the median name occurence in the dataset"
   ]
  },
  {
   "cell_type": "code",
   "execution_count": 32,
   "metadata": {},
   "outputs": [
    {
     "name": "stdout",
     "output_type": "stream",
     "text": [
      "Median name based on Cumulative Frequency distribution :  Serena\n"
     ]
    }
   ],
   "source": [
    "import numpy as np\n",
    "#Create Cumulative distribution frequency table. Find total count and divide by 2 which is median. Then use npsorted to find right \n",
    "#index to get median name.\n",
    "\n",
    "df_name = data.name.value_counts()[-1::-1].cumsum()\n",
    "med = df_name[-1]/2\n",
    "ind = np.searchsorted(df_name,med, side='right')\n",
    "print(\"Median name based on Cumulative Frequency distribution : \",df_name.index[ind])\n"
   ]
  },
  {
   "cell_type": "markdown",
   "metadata": {},
   "source": [
    "5. Distribution of male and female born count by states"
   ]
  },
  {
   "cell_type": "code",
   "execution_count": 90,
   "metadata": {},
   "outputs": [
    {
     "data": {
      "text/html": [
       "<div>\n",
       "<style scoped>\n",
       "    .dataframe tbody tr th:only-of-type {\n",
       "        vertical-align: middle;\n",
       "    }\n",
       "\n",
       "    .dataframe tbody tr th {\n",
       "        vertical-align: top;\n",
       "    }\n",
       "\n",
       "    .dataframe thead th {\n",
       "        text-align: right;\n",
       "    }\n",
       "</style>\n",
       "<table border=\"1\" class=\"dataframe\">\n",
       "  <thead>\n",
       "    <tr style=\"text-align: right;\">\n",
       "      <th>sex</th>\n",
       "      <th>boy</th>\n",
       "      <th>girl</th>\n",
       "    </tr>\n",
       "    <tr>\n",
       "      <th>year</th>\n",
       "      <th></th>\n",
       "      <th></th>\n",
       "    </tr>\n",
       "  </thead>\n",
       "  <tbody>\n",
       "    <tr>\n",
       "      <th>1880</th>\n",
       "      <td>0.498981</td>\n",
       "      <td>0.501019</td>\n",
       "    </tr>\n",
       "    <tr>\n",
       "      <th>1881</th>\n",
       "      <td>0.499396</td>\n",
       "      <td>0.500604</td>\n",
       "    </tr>\n",
       "    <tr>\n",
       "      <th>1882</th>\n",
       "      <td>0.499071</td>\n",
       "      <td>0.500929</td>\n",
       "    </tr>\n",
       "    <tr>\n",
       "      <th>1883</th>\n",
       "      <td>0.498782</td>\n",
       "      <td>0.501218</td>\n",
       "    </tr>\n",
       "    <tr>\n",
       "      <th>1884</th>\n",
       "      <td>0.498907</td>\n",
       "      <td>0.501093</td>\n",
       "    </tr>\n",
       "  </tbody>\n",
       "</table>\n",
       "</div>"
      ],
      "text/plain": [
       "sex        boy      girl\n",
       "year                    \n",
       "1880  0.498981  0.501019\n",
       "1881  0.499396  0.500604\n",
       "1882  0.499071  0.500929\n",
       "1883  0.498782  0.501218\n",
       "1884  0.498907  0.501093"
      ]
     },
     "execution_count": 90,
     "metadata": {},
     "output_type": "execute_result"
    }
   ],
   "source": [
    "#There is no states column. I assume you mean year\n",
    "#Normalised distribution based on percent\n",
    "    \n",
    "pd.crosstab(columns=data.sex,index=data.year,values=data.percent\n",
    "            ,aggfunc=np.sum,normalize='index').head()"
   ]
  },
  {
   "cell_type": "markdown",
   "metadata": {},
   "source": [
    "#### Task 2:\n",
    "\n",
    "We have the min and max temperatures in a city In India for each months of the year. We\n",
    "would like to find a function to describe this and show it graphically, the dataset given below.\n",
    "\n",
    "    Task:\n",
    "    1. fitting it to the periodic function\n",
    "    2. plot the fit\n",
    "    \n",
    "    Data\n",
    "    Max = 39, 41, 43, 47, 49, 51, 45, 38, 37, 29, 27, 25\n",
    "    Min = 21, 23, 27, 28, 32, 35, 31, 28, 21, 19, 17, 18\n"
   ]
  },
  {
   "cell_type": "code",
   "execution_count": 89,
   "metadata": {},
   "outputs": [
    {
     "data": {
      "image/png": "[encoded data removed]",
      "text/plain": [
       "<Figure size 432x288 with 1 Axes>"
      ]
     },
     "metadata": {
      "needs_background": "light"
     },
     "output_type": "display_data"
    }
   ],
   "source": [
    "import matplotlib.pyplot as plt\n",
    "import numpy as np\n",
    "from scipy import optimize\n",
    "\n",
    "ymax = np.array([39, 41, 43, 47, 49, 51, 45, 38, 37, 29, 27, 25])\n",
    "ymin = np.array([21, 23, 27, 28, 32, 35, 31, 28, 21, 19, 17, 18])\n",
    "x = list(range(1,13))\n",
    "\n",
    "plt.scatter(x,ymax)\n",
    "plt.scatter(x,ymin)\n",
    "plt.xlabel('Month')\n",
    "plt.ylabel('Temp')\n",
    "\n",
    "def temperature_fit(x, mid, amplitude, phase, freq):\n",
    "    val = mid + amplitude * np.cos((x + phase) * np.pi * freq)\n",
    "    return val\n",
    "\n",
    "y = ymax\n",
    "max_param, _ = optimize.curve_fit(temperature_fit, x, y,\n",
    "                [y.max()+y.min()/2, (y.max()-y.min())/2, -y.argmax(),1/12] )\n",
    "\n",
    "y = ymin\n",
    "min_param, _ = optimize.curve_fit(temperature_fit, x, y,\n",
    "                [y.max()+y.min()/2, (y.max()-y.min())/2, -y.argmax(), 1/12] )\n",
    "\n",
    "\n",
    "\n",
    "plt.plot(x, temperature_fit(x,*max_param), 'r--', label='max fit')\n",
    "plt.plot(x, temperature_fit(x,*min_param), 'g--', label='min fit')\n",
    "plt.legend()\n",
    "plt.show()"
   ]
  }
 ],
 "metadata": {
  "kernelspec": {
   "display_name": "Python 3",
   "language": "python",
   "name": "python3"
  },
  "language_info": {
   "codemirror_mode": {
    "name": "ipython",
    "version": 3
   },
   "file_extension": ".py",
   "mimetype": "text/x-python",
   "name": "python",
   "nbconvert_exporter": "python",
   "pygments_lexer": "ipython3",
   "version": "3.7.2"
  }
 },
 "nbformat": 4,
 "nbformat_minor": 2
}
